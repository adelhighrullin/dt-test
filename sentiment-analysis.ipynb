{
 "cells": [
  {
   "cell_type": "code",
   "execution_count": 1,
   "metadata": {},
   "outputs": [],
   "source": [
    "import requests\n",
    "import re"
   ]
  },
  {
   "cell_type": "code",
   "execution_count": 2,
   "metadata": {},
   "outputs": [],
   "source": [
    "link = 'https://vk.com/tproger?w=wall-30666517_1734830'"
   ]
  },
  {
   "cell_type": "code",
   "execution_count": 3,
   "metadata": {},
   "outputs": [],
   "source": [
    "url = 'https://api.vk.com/method/wall.getComments?'\n",
    "token = '73c69ed073c69ed073c69ed0bd73b17b9a773c673c69ed013650cd5c04b23fcb33321ec'\n",
    "version = '5.130'\n",
    "info = re.findall(r'\\?w=wall.*', link)[0]\n",
    "owner_id = re.findall(r'wall.?\\d*', info)[0][4:]\n",
    "post_id = re.findall(r'_\\d*', info)[0][1:]\n",
    "count = 100"
   ]
  },
  {
   "cell_type": "code",
   "execution_count": 4,
   "metadata": {},
   "outputs": [],
   "source": [
    "response = requests.get(url,\n",
    "                       params = {\n",
    "                           'access_token': '73c69ed073c69ed073c69ed0bd73b17b9a773c673c69ed013650cd5c04b23fcb33321ec',\n",
    "                           'v': version,\n",
    "                           'owner_id': owner_id,\n",
    "                           'post_id': post_id,\n",
    "                           'count': count\n",
    "                       })"
   ]
  },
  {
   "cell_type": "code",
   "execution_count": 5,
   "metadata": {},
   "outputs": [],
   "source": [
    "num_of_comments = response.json()['response']['count']\n",
    "num_of_loops = num_of_comments // count"
   ]
  },
  {
   "cell_type": "code",
   "execution_count": 6,
   "metadata": {},
   "outputs": [],
   "source": [
    "comments = []\n",
    "for item in response.json()['response']['items']:\n",
    "    comment = item.get('text')\n",
    "    if comment != '' and comment != None:\n",
    "        comments.append(comment)"
   ]
  },
  {
   "cell_type": "code",
   "execution_count": 7,
   "metadata": {},
   "outputs": [
    {
     "data": {
      "text/plain": [
       "['Пфф, пока еду нельзя будет скачать из интернета, вы не сможете меня ничем удивить',\n",
       " '\"Графон, как в жизни\" подъезжает?',\n",
       " 'Видях все равно нет, можете не спешить 😄',\n",
       " 'Рендер не равно реальный эффект, что с нейросетями что с новомодными алгоритмами, на выходе как правило результат на порядки хуже. \\nОсобенно учитывая то какой дурной маркетинг ведет Интел последние годы.',\n",
       " 'ну окей\\nа как будут отображаться \"реальные\" разнообразные повреждения окружения во время игры в гта?)',\n",
       " 'При средней тенденции увеличения показателей производительности топовой видеокарты nvidia каждые два года на 42% (если брать с gtx 690 до 3090), можно уже сейчас спрогнозировать, что топовая видеокарта 2032 года будет рендерить показанную на примере картинку с частотой кадров около 60 fps, а к 2040 году ввиду никого гиперреалистичной графикой удивить будет нельзя.',\n",
       " 'Реальность не так красочна((',\n",
       " 'Видяx вce paвнo нeт, мoжeтe нe cпeшить 😄',\n",
       " 'Хм, ну можно не весь кадр, а скажем людей или только машины рендерить реально и будет тогда круто… хотя бы на данном этапе',\n",
       " 'додумались',\n",
       " 'Полсекунды на один кадр на ртх3090? С таким же успехом можно  играть в \"компьютерные игры\" наняв профессионального художника, который будет тебе на холсте маслом каждый кадр отрисовывать.',\n",
       " 'Магия синего фильтра',\n",
       " 'Катсценки запилить',\n",
       " 'Смотреть в шакальном 720р такие сравнения бессмысленно.',\n",
       " 'Гта 5 в гта 4?очень реалестично',\n",
       " 'Хммм, если доведут до ума эту технологию, а Nvidia еще и разработает ядра чисто под нее, как было с RTX, а потом совместить Microsoft Flight Simulator с ней, то это будет игра с реальным миром, еще и с фотореалистичной графикой',\n",
       " 'Оригинал получше выглядит',\n",
       " 'Неее, я в игры ухожу, потому что там всё ярко и красочно, а так игра серая и скучная, не отличающаяся от реальности, и это выглядит не очень (',\n",
       " 'Даже 3090 сейчас не купишь для этого, из-за санных майнеров',\n",
       " 'Зашакалили и убили баланс белого. Найс.',\n",
       " 'Типичные программисты, кто посоветует софт как сделать апскейл видео до более высокого разрешения с более высокой частотой кадров. И именно реальный апскейл с реальным улучшением картинки с реальным увеличением fps, а не тупо увеличение циферок от которых просто раздует видеофайл, а качество останется прежним.']"
      ]
     },
     "execution_count": 7,
     "metadata": {},
     "output_type": "execute_result"
    }
   ],
   "source": [
    "comments"
   ]
  },
  {
   "cell_type": "code",
   "execution_count": 8,
   "metadata": {},
   "outputs": [],
   "source": [
    "from dostoevsky.tokenization import RegexTokenizer\n",
    "from dostoevsky.models import FastTextSocialNetworkModel"
   ]
  },
  {
   "cell_type": "code",
   "execution_count": 9,
   "metadata": {},
   "outputs": [
    {
     "name": "stderr",
     "output_type": "stream",
     "text": [
      "Warning : `load_model` does not return WordVectorModel or SupervisedModel any more, but a `FastText` object which is very similar.\n"
     ]
    }
   ],
   "source": [
    "tokenizer = RegexTokenizer()\n",
    "model = FastTextSocialNetworkModel(tokenizer=tokenizer)"
   ]
  },
  {
   "cell_type": "code",
   "execution_count": 10,
   "metadata": {},
   "outputs": [],
   "source": [
    "results = model.predict(comments, k=1)"
   ]
  },
  {
   "cell_type": "code",
   "execution_count": 11,
   "metadata": {},
   "outputs": [
    {
     "data": {
      "text/plain": [
       "[{'neutral': 0.3557848632335663},\n",
       " {'neutral': 0.91965252161026},\n",
       " {'neutral': 0.7310686111450195},\n",
       " {'neutral': 0.4921981394290924},\n",
       " {'neutral': 0.9416641592979431}]"
      ]
     },
     "execution_count": 11,
     "metadata": {},
     "output_type": "execute_result"
    }
   ],
   "source": [
    "results[:5]"
   ]
  },
  {
   "cell_type": "code",
   "execution_count": 12,
   "metadata": {},
   "outputs": [],
   "source": [
    "import pandas as pd"
   ]
  },
  {
   "cell_type": "code",
   "execution_count": 13,
   "metadata": {},
   "outputs": [],
   "source": [
    "data = {'comment': comments, 'sentiment': results}"
   ]
  },
  {
   "cell_type": "code",
   "execution_count": 14,
   "metadata": {},
   "outputs": [
    {
     "data": {
      "text/html": [
       "<div>\n",
       "<style scoped>\n",
       "    .dataframe tbody tr th:only-of-type {\n",
       "        vertical-align: middle;\n",
       "    }\n",
       "\n",
       "    .dataframe tbody tr th {\n",
       "        vertical-align: top;\n",
       "    }\n",
       "\n",
       "    .dataframe thead th {\n",
       "        text-align: right;\n",
       "    }\n",
       "</style>\n",
       "<table border=\"1\" class=\"dataframe\">\n",
       "  <thead>\n",
       "    <tr style=\"text-align: right;\">\n",
       "      <th></th>\n",
       "      <th>comment</th>\n",
       "      <th>sentiment</th>\n",
       "    </tr>\n",
       "  </thead>\n",
       "  <tbody>\n",
       "    <tr>\n",
       "      <th>0</th>\n",
       "      <td>Пфф, пока еду нельзя будет скачать из интернет...</td>\n",
       "      <td>{'neutral': 0.3557848632335663}</td>\n",
       "    </tr>\n",
       "    <tr>\n",
       "      <th>1</th>\n",
       "      <td>\"Графон, как в жизни\" подъезжает?</td>\n",
       "      <td>{'neutral': 0.91965252161026}</td>\n",
       "    </tr>\n",
       "    <tr>\n",
       "      <th>2</th>\n",
       "      <td>Видях все равно нет, можете не спешить 😄</td>\n",
       "      <td>{'neutral': 0.7310686111450195}</td>\n",
       "    </tr>\n",
       "    <tr>\n",
       "      <th>3</th>\n",
       "      <td>Рендер не равно реальный эффект, что с нейросе...</td>\n",
       "      <td>{'neutral': 0.4921981394290924}</td>\n",
       "    </tr>\n",
       "    <tr>\n",
       "      <th>4</th>\n",
       "      <td>ну окей\\nа как будут отображаться \"реальные\" р...</td>\n",
       "      <td>{'neutral': 0.9416641592979431}</td>\n",
       "    </tr>\n",
       "  </tbody>\n",
       "</table>\n",
       "</div>"
      ],
      "text/plain": [
       "                                             comment  \\\n",
       "0  Пфф, пока еду нельзя будет скачать из интернет...   \n",
       "1                  \"Графон, как в жизни\" подъезжает?   \n",
       "2           Видях все равно нет, можете не спешить 😄   \n",
       "3  Рендер не равно реальный эффект, что с нейросе...   \n",
       "4  ну окей\\nа как будут отображаться \"реальные\" р...   \n",
       "\n",
       "                         sentiment  \n",
       "0  {'neutral': 0.3557848632335663}  \n",
       "1    {'neutral': 0.91965252161026}  \n",
       "2  {'neutral': 0.7310686111450195}  \n",
       "3  {'neutral': 0.4921981394290924}  \n",
       "4  {'neutral': 0.9416641592979431}  "
      ]
     },
     "execution_count": 14,
     "metadata": {},
     "output_type": "execute_result"
    }
   ],
   "source": [
    "df = pd.DataFrame(data=data)\n",
    "df.head()"
   ]
  },
  {
   "cell_type": "code",
   "execution_count": 15,
   "metadata": {},
   "outputs": [],
   "source": [
    "df.to_csv('output.csv', index=False)"
   ]
  }
 ],
 "metadata": {
  "kernelspec": {
   "display_name": "Python 3",
   "language": "python",
   "name": "python3"
  },
  "language_info": {
   "codemirror_mode": {
    "name": "ipython",
    "version": 3
   },
   "file_extension": ".py",
   "mimetype": "text/x-python",
   "name": "python",
   "nbconvert_exporter": "python",
   "pygments_lexer": "ipython3",
   "version": "3.8.5"
  }
 },
 "nbformat": 4,
 "nbformat_minor": 4
}
